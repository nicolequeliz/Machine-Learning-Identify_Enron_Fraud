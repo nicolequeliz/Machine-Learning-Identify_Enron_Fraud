{
 "cells": [
  {
   "cell_type": "markdown",
   "metadata": {},
   "source": [
    "## **Identify Fraud From Enron Email**"
   ]
  },
  {
   "cell_type": "markdown",
   "metadata": {
    "collapsed": true
   },
   "source": [
    "The project uses the dataset from the Enron fraud case to create a predicitive model using machine learning algorithms to help pin point which employees could be a person of interest in the investigation based on financial and email records. "
   ]
  },
  {
   "cell_type": "code",
   "execution_count": 318,
   "metadata": {},
   "outputs": [],
   "source": [
    "import sys\n",
    "import pickle\n",
    "import numpy as np\n",
    "import pandas as pd\n",
    "import matplotlib.pyplot as plt\n",
    "from sklearn.naive_bayes import GaussianNB\n",
    "from sklearn import tree\n",
    "from sklearn.metrics import accuracy_score \n",
    "from sklearn.metrics import precision_score \n",
    "from sklearn.metrics import recall_score \n",
    "\n",
    "sys.path.append(\"../tools/\")\n",
    "\n",
    "from feature_format import featureFormat, targetFeatureSplit\n",
    "from tester import dump_classifier_and_data\n",
    "from tester import test_classifier"
   ]
  },
  {
   "cell_type": "markdown",
   "metadata": {},
   "source": [
    "**Feature Selection**"
   ]
  },
  {
   "cell_type": "markdown",
   "metadata": {},
   "source": [
    "Below are my feature selections. I origionally included all finacial features, 'poi', and a few of the emial features. As you can see some have been commented out and I will explain why I chose those a bit later in the report. "
   ]
  },
  {
   "cell_type": "code",
   "execution_count": 319,
   "metadata": {
    "collapsed": true
   },
   "outputs": [],
   "source": [
    "### Task 1: Select what features you'll use.\n",
    "### features_list is a list of strings, each of which is a feature name.\n",
    "### The first feature must be \"poi\".\n",
    "features_list = ['poi','salary', 'deferral_payments', \n",
    "                 'total_payments', 'loan_advances', \n",
    "                 'bonus', 'restricted_stock_deferred', \n",
    "                 'deferred_income', 'total_stock_value', \n",
    "                 'expenses', \n",
    "                 'exercised_stock_options', \n",
    "                 'long_term_incentive', \n",
    "                 'restricted_stock',\n",
    "                 'to_messages', \n",
    "                 'from_poi_to_this_person', 'from_messages',\n",
    "                 'from_this_person_to_poi'\n",
    "                 ]\n",
    "\n"
   ]
  },
  {
   "cell_type": "code",
   "execution_count": 320,
   "metadata": {
    "collapsed": true
   },
   "outputs": [],
   "source": [
    "### Load the dictionary containing the dataset\n",
    "with open(\"final_project_dataset.pkl\", \"r\") as data_file:\n",
    "    data_dict = pickle.load(data_file)\n"
   ]
  },
  {
   "cell_type": "markdown",
   "metadata": {},
   "source": [
    "**Data Exploration**"
   ]
  },
  {
   "cell_type": "markdown",
   "metadata": {},
   "source": [
    "In this section I  will explore the dataset to get an idea of the data structure and what I was working with."
   ]
  },
  {
   "cell_type": "code",
   "execution_count": 321,
   "metadata": {},
   "outputs": [
    {
     "name": "stdout",
     "output_type": "stream",
     "text": [
      "Number of people: 146\n",
      "Number of features: 21\n",
      "Person of Interest count: 18\n",
      "POI percentage: 12.33 %\n",
      "Number of features used: 17\n"
     ]
    }
   ],
   "source": [
    "##Data Exploration\n",
    "#total number of data points\n",
    "total_people = len(data_dict.keys())\n",
    "\n",
    "print 'Number of people:', total_people\n",
    "print 'Number of features:',(len(data_dict.values()[0]))\n",
    "##Finding POIs in the Enron Data\n",
    "poi_count=0\n",
    "for x, y in data_dict.items():\n",
    "    if y['poi']==1:\n",
    "        poi_count+=1\n",
    "print 'Person of Interest count:', poi_count\n",
    "\n",
    "#Percent POI\n",
    "poi_perc = round((1.*poi_count/total_people)*100,2)\n",
    "print 'POI percentage:',poi_perc,\"%\"\n",
    "\n",
    "# # of features used\n",
    "feat_len = len(features_list)\n",
    "print 'Number of features used:', feat_len\n",
    "\n",
    "\n",
    "\n"
   ]
  },
  {
   "cell_type": "markdown",
   "metadata": {},
   "source": [
    "There are 146 observations with 23 features. Of the 145 observations, 23 are a 'Person of Interest', which amounted to 12.41% of observations as poi's. Of the 23 features, I chose to use 12 of them. "
   ]
  },
  {
   "cell_type": "markdown",
   "metadata": {},
   "source": [
    "**Outliers**"
   ]
  },
  {
   "cell_type": "markdown",
   "metadata": {},
   "source": [
    "Below I will check the data for outliers based on salary and bonus, and remove them is needed. "
   ]
  },
  {
   "cell_type": "code",
   "execution_count": 322,
   "metadata": {},
   "outputs": [
    {
     "data": {
      "image/png": "[encoded data removed]",
      "text/plain": [
       "<matplotlib.figure.Figure at 0xca41438>"
      ]
     },
     "metadata": {},
     "output_type": "display_data"
    }
   ],
   "source": [
    "### Task 2: Remove outliers\n",
    "##check for outliers\n",
    "features = ['salary','bonus']\n",
    "data = featureFormat(data_dict, features)\n",
    "\n",
    "plt.scatter(data[:,0], data[:,1])\n",
    "plt.xlabel(\"salary\")\n",
    "plt.ylabel(\"bonus\")\n",
    "plt.show()\n",
    "\n",
    "\n"
   ]
  },
  {
   "cell_type": "markdown",
   "metadata": {},
   "source": [
    "As you can see in the scatter plot above, there are significant outliers that need to be removed."
   ]
  },
  {
   "cell_type": "code",
   "execution_count": 323,
   "metadata": {
    "scrolled": true
   },
   "outputs": [
    {
     "name": "stdout",
     "output_type": "stream",
     "text": [
      "Outliers left:\n",
      "[('SKILLING JEFFREY K', 1111258), ('LAY KENNETH L', 1072321), ('FREVERT MARK A', 1060932), ('PICKERING MARK R', 655037)]\n"
     ]
    },
    {
     "data": {
      "image/png": "[encoded data removed]",
      "text/plain": [
       "<matplotlib.figure.Figure at 0xb9f70f0>"
      ]
     },
     "metadata": {},
     "output_type": "display_data"
    }
   ],
   "source": [
    "##Remove\n",
    "data_dict.pop('TOTAL', 0)\n",
    "data = featureFormat(data_dict, features)\n",
    "\n",
    "person = [] \n",
    "for p in data_dict: \n",
    "     if data_dict[p]['salary'] != \"NaN\": \n",
    "         person.append((p, data_dict[p]['salary'])) \n",
    "print \"Outliers left:\" \n",
    "print sorted(person, key = lambda x: x[1], reverse=True)[0:4]\n",
    "\n",
    "plt.scatter(data[:,0], data[:,1])\n",
    "plt.xlabel(\"salary\")\n",
    "plt.ylabel(\"bonus\")\n",
    "plt.show()"
   ]
  },
  {
   "cell_type": "markdown",
   "metadata": {},
   "source": [
    "After removing the outliers, I was able to get a better view of the data. There were still a couple of outliers iddentified as Jefferey Skilling, Kenneth Lay, and Mark Frevert but I chose to keep due to the fact that they were top exectuives and most likely involved in the fraud"
   ]
  },
  {
   "cell_type": "markdown",
   "metadata": {},
   "source": [
    "**Features**"
   ]
  },
  {
   "cell_type": "markdown",
   "metadata": {},
   "source": [
    "Below I create two new features that find a persons ratio of emails sent to and recieved from a person of interest. I believe these ratios would help see a person's interactions with a person of interest which may then reveal whether of not they themselves were involed in the fraud based on the level of activity. "
   ]
  },
  {
   "cell_type": "code",
   "execution_count": 324,
   "metadata": {},
   "outputs": [
    {
     "data": {
      "text/plain": [
       "['poi',\n",
       " 'salary',\n",
       " 'deferral_payments',\n",
       " 'total_payments',\n",
       " 'loan_advances',\n",
       " 'bonus',\n",
       " 'restricted_stock_deferred',\n",
       " 'deferred_income',\n",
       " 'total_stock_value',\n",
       " 'expenses',\n",
       " 'exercised_stock_options',\n",
       " 'long_term_incentive',\n",
       " 'restricted_stock',\n",
       " 'to_messages',\n",
       " 'from_poi_to_this_person',\n",
       " 'from_messages',\n",
       " 'from_this_person_to_poi',\n",
       " 'to_poi_perc',\n",
       " 'from_poi_perc']"
      ]
     },
     "execution_count": 324,
     "metadata": {},
     "output_type": "execute_result"
    }
   ],
   "source": [
    "### Task 3: Create new feature(s)\n",
    "### Store to my_dataset for easy export below.\n",
    "my_dataset = data_dict\n",
    "for p in my_dataset:\n",
    "    from_poi = my_dataset[p]['from_poi_to_this_person']\n",
    "    total_to_msg = my_dataset[p]['to_messages']\n",
    "    if from_poi != 'NaN' and total_to_msg !='NaN':\n",
    "        my_dataset[p]['from_poi_perc'] = (1.*from_poi/total_to_msg)*100\n",
    "    else:\n",
    "        my_dataset[p]['from_poi_perc'] = 0\n",
    "        \n",
    "for p in my_dataset:\n",
    "    to_poi = my_dataset[p]['from_this_person_to_poi']\n",
    "    total_from_msg = my_dataset[p]['from_messages']\n",
    "    if to_poi != 'NaN' and total_from_msg !='NaN':\n",
    "        my_dataset[p]['to_poi_perc'] = (1.*to_poi/total_from_msg)*100\n",
    "    else:\n",
    "        my_dataset[p]['to_poi_perc'] = 0\n",
    "\n",
    "features_list = features_list + ['to_poi_perc']+['from_poi_perc']\n",
    "features_list\n"
   ]
  },
  {
   "cell_type": "markdown",
   "metadata": {},
   "source": [
    "I have added to new features to the features list. After running SelectKBest, shown below, the new feature 'to_poi_perc' was selected as one of the best features and will make a significant impact on final recall and precision score which is seen at the end of the report. \n"
   ]
  },
  {
   "cell_type": "code",
   "execution_count": 325,
   "metadata": {
    "collapsed": true
   },
   "outputs": [],
   "source": [
    "### Extract features and labels from dataset for local testing\n",
    "my_dataset = data_dict\n",
    "data = featureFormat(my_dataset, features_list, sort_keys = True)\n",
    "labels, features = targetFeatureSplit(data)\n"
   ]
  },
  {
   "cell_type": "markdown",
   "metadata": {},
   "source": [
    "Earlier in the report I mentioned that I would explain why I chose to comment out certain features. My reasoning is based on the algorithm I ran below. I tested a number of different k values starting with the default of 10. \n",
    "Precision and Recall based on k-value:\n",
    "\n",
    "k = 10: p = 0.32 , r = 0.31\n",
    "\n",
    "k = 9: p = 0.40, r = 0.31\n",
    "\n",
    "k = 8: p = 0.48, r = 0.39\n",
    "\n",
    "k = 7: p = 0.48, r = 0.37\n",
    "\n",
    "k = 6: p = 0.51, r = 0.38\n",
    "\n",
    "k = 5: p = 0.48, r = 0.38\n",
    "\n",
    "k = 4: p = 0.49, r = 0.32\n",
    "\n",
    "K with a value of 5 gives the highest, balanced precision and recall and so that is I the value I will use.\n"
   ]
  },
  {
   "cell_type": "code",
   "execution_count": 326,
   "metadata": {},
   "outputs": [
    {
     "name": "stdout",
     "output_type": "stream",
     "text": [
      "Best features:\n"
     ]
    },
    {
     "data": {
      "text/plain": [
       "[('exercised_stock_options', 25.097541528735491),\n",
       " ('total_stock_value', 24.467654047526398),\n",
       " ('bonus', 21.060001707536571),\n",
       " ('salary', 18.575703268041785),\n",
       " ('to_poi_perc', 16.641707070469028),\n",
       " ('deferred_income', 11.595547659730601),\n",
       " ('long_term_incentive', 10.072454529369441)]"
      ]
     },
     "execution_count": 326,
     "metadata": {},
     "output_type": "execute_result"
    }
   ],
   "source": [
    "features_list = ['poi',\n",
    " 'salary',\n",
    " 'deferral_payments',\n",
    " 'total_payments',\n",
    " 'loan_advances',\n",
    " 'bonus',\n",
    " 'restricted_stock_deferred',\n",
    " 'deferred_income',\n",
    " 'total_stock_value',\n",
    " 'expenses',\n",
    " 'exercised_stock_options',\n",
    " 'long_term_incentive',\n",
    " 'restricted_stock',\n",
    " 'to_messages',\n",
    " 'from_poi_to_this_person',\n",
    " 'from_messages',\n",
    " 'from_this_person_to_poi',\n",
    " 'to_poi_perc',\n",
    " 'from_poi_perc']\n",
    "from sklearn.feature_selection import f_classif, SelectKBest \n",
    "k = 7\n",
    "selector = SelectKBest(f_classif, k) \n",
    "selector.fit_transform(features, labels) \n",
    "print \"Best features:\"\n",
    "scores = zip(features_list[1:],selector.scores_)\n",
    "scores_sorted = sorted(scores, key = lambda x: x[1], reverse=True  )\n",
    "#scores_sorted\n",
    "best_features = scores_sorted[:k]\n",
    "best_features"
   ]
  },
  {
   "cell_type": "markdown",
   "metadata": {},
   "source": [
    "To optimze my features chosen, I used the SelectKBest algorithm to identify the top seven best features in the dataset. Based off of the output, I adjusted the features I orgionally chose to use the optimal ones."
   ]
  },
  {
   "cell_type": "code",
   "execution_count": 327,
   "metadata": {},
   "outputs": [],
   "source": [
    "##Final set of features\n",
    "features_list = ['poi','salary', #'deferral_payments', \n",
    "                 #'total_payments', \n",
    "                 #'loan_advances', \n",
    "                 'bonus', #'restricted_stock_deferred', \n",
    "                 'deferred_income', \n",
    "                 'total_stock_value', \n",
    "                 #'expenses', \n",
    "                 'exercised_stock_options',\n",
    "                 'long_term_incentive',\n",
    "                 #'restricted_stock',\n",
    "                 #'to_messages', \n",
    "                 #'from_poi_to_this_person', 'from_messages',\n",
    "                 #'from_this_person_to_poi'\n",
    "                 'to_poi_perc'\n",
    "                 #'from_poi_perc'\n",
    "                 ]\n",
    "                 "
   ]
  },
  {
   "cell_type": "markdown",
   "metadata": {},
   "source": [
    "**Validation**"
   ]
  },
  {
   "cell_type": "markdown",
   "metadata": {},
   "source": [
    "Validation is a procoess of model performance evaluation. The purpose of it is to make sure the machine learning algorithm is doing whta you want it to do and to also use a test dataset to understand how the model performs on unseen data. There are a few different strategies to validate the model. One of them is to split the available data into train and test data another one is to perform a cross validation: process of splitting the data on k beans equal size and run learning experiments, and repeat this step mutliple times and take the average test result.\n",
    "I will be using Kfold to split the data. In K-fold cross validation, it splits the training data into k parts, or folds."
   ]
  },
  {
   "cell_type": "code",
   "execution_count": 346,
   "metadata": {},
   "outputs": [],
   "source": [
    "## use KFold for split and validate algorithm \n",
    "from sklearn.cross_validation import KFold \n",
    "kf=KFold(len(labels),3) \n",
    "for train_indices, test_indices in kf: \n",
    "    #make training and testing sets \n",
    "    features_train= [features[ii] for ii in train_indices] \n",
    "    features_test= [features[ii] for ii in test_indices] \n",
    "    labels_train=[labels[ii] for ii in train_indices] \n",
    "    labels_test=[labels[ii] for ii in test_indices] \n"
   ]
  },
  {
   "cell_type": "markdown",
   "metadata": {},
   "source": [
    "**Classifiers**"
   ]
  },
  {
   "cell_type": "markdown",
   "metadata": {},
   "source": [
    "I have chosen to use the Naive Bayes and Decision Tree algorithms as classifiers."
   ]
  },
  {
   "cell_type": "code",
   "execution_count": 329,
   "metadata": {},
   "outputs": [
    {
     "name": "stdout",
     "output_type": "stream",
     "text": [
      "Naive Bayes accuracy: 0.8958\n",
      "Naive Bayes time: 0.016 s\n"
     ]
    }
   ],
   "source": [
    "### Task 4: Try a varity of classifiers\n",
    "### Please name your classifier clf for easy export below.\n",
    "\n",
    "##Naive Bayes\n",
    "from time import time\n",
    "t0 = time() \n",
    " \n",
    "clf = GaussianNB() \n",
    "clf.fit(features_train, labels_train) \n",
    "pred = clf.predict(features_test) \n",
    "accuracy = accuracy_score(pred,labels_test) \n",
    "print 'Naive Bayes accuracy:',round(accuracy,4) \n",
    " \n",
    "print 'Naive Bayes time:', round((time()-t0), 3), \"s\" \n"
   ]
  },
  {
   "cell_type": "code",
   "execution_count": 330,
   "metadata": {},
   "outputs": [
    {
     "name": "stdout",
     "output_type": "stream",
     "text": [
      "Decision Tree accuracy: 0.8125\n",
      "Decision Tree time: 0.0 s\n"
     ]
    }
   ],
   "source": [
    "##Decision Tree\n",
    "t0 = time() \n",
    "\n",
    "clf = tree.DecisionTreeClassifier() \n",
    "clf.fit(features_train,labels_train) \n",
    "pred = clf.predict(features_test)\n",
    "accuracy = accuracy_score(labels_test, pred)  \n",
    "print 'Decision Tree accuracy:', round(accuracy,4)\n",
    " \n",
    "print 'Decision Tree time:', round((time()-t0), 3), \"s\""
   ]
  },
  {
   "cell_type": "markdown",
   "metadata": {},
   "source": [
    "I chose to use the algorithms Naive Bayes and Decision Tree. Naive Bayes gave the best accuracy with 89% while Decision Tree only gave around 81% accuracy. In the next section I will tune the Decision Tree with hopes that it will increase the accuracy."
   ]
  },
  {
   "cell_type": "markdown",
   "metadata": {},
   "source": [
    "**Feature Scaling**"
   ]
  },
  {
   "cell_type": "markdown",
   "metadata": {},
   "source": [
    "Feature scaling is important for alogrithms that are based on distance between features, such as SVM. Decision Tree does not utilize distance between features and threfore no scaling was done. "
   ]
  },
  {
   "cell_type": "markdown",
   "metadata": {},
   "source": [
    "**Tuning**"
   ]
  },
  {
   "cell_type": "markdown",
   "metadata": {},
   "source": [
    "Algorithm tuning is a final step in the process of applied machine learning before presenting results. Tuning is a key part to optimizing an algorithm. Tuning an algorithm or machine learning technique, can be simply thought of as process which one goes through in which they optimize the parameters that impact the model in order to enable the algorithm to perform the best. If not done properly it can result in overfitting or generalization. "
   ]
  },
  {
   "cell_type": "code",
   "execution_count": 331,
   "metadata": {},
   "outputs": [
    {
     "name": "stdout",
     "output_type": "stream",
     "text": [
      "Decision Tree Tuning 1:\n",
      "Accuracy: 0.875\n",
      "Decision Tree time: 0.0 s\n",
      "DecisionTreeClassifier(class_weight=None, criterion='gini', max_depth=None,\n",
      "            max_features=None, max_leaf_nodes=None,\n",
      "            min_impurity_split=1e-07, min_samples_leaf=1,\n",
      "            min_samples_split=5, min_weight_fraction_leaf=0.0,\n",
      "            presort=False, random_state=None, splitter='best')\n",
      "\tAccuracy: 0.80214\tPrecision: 0.27874\tRecall: 0.24250\tF1: 0.25936\tF2: 0.24897\n",
      "\tTotal predictions: 14000\tTrue positives:  485\tFalse positives: 1255\tFalse negatives: 1515\tTrue negatives: 10745\n",
      "\n",
      "\n",
      "Decision Tree Tuning 2:\n",
      "Accuracy: 0.875\n",
      "Decision Tree time: 0.0 s\n",
      "DecisionTreeClassifier(class_weight=None, criterion='gini', max_depth=None,\n",
      "            max_features=None, max_leaf_nodes=None,\n",
      "            min_impurity_split=1e-07, min_samples_leaf=1,\n",
      "            min_samples_split=15, min_weight_fraction_leaf=0.0,\n",
      "            presort=False, random_state=None, splitter='best')\n",
      "\tAccuracy: 0.82100\tPrecision: 0.34108\tRecall: 0.27150\tF1: 0.30234\tF2: 0.28305\n",
      "\tTotal predictions: 14000\tTrue positives:  543\tFalse positives: 1049\tFalse negatives: 1457\tTrue negatives: 10951\n",
      "\n",
      "\n",
      "Decision Tree Tuning 1:\n",
      "Accuracy: 0.8542\n",
      "Decision Tree time: 0.0 s\n",
      "DecisionTreeClassifier(class_weight=None, criterion='gini', max_depth=None,\n",
      "            max_features=None, max_leaf_nodes=None,\n",
      "            min_impurity_split=1e-07, min_samples_leaf=1,\n",
      "            min_samples_split=30, min_weight_fraction_leaf=0.0,\n",
      "            presort=False, random_state=None, splitter='best')\n",
      "\tAccuracy: 0.82064\tPrecision: 0.27763\tRecall: 0.15950\tF1: 0.20260\tF2: 0.17434\n",
      "\tTotal predictions: 14000\tTrue positives:  319\tFalse positives:  830\tFalse negatives: 1681\tTrue negatives: 11170\n",
      "\n"
     ]
    }
   ],
   "source": [
    "### Task 5: Tune your classifier to achieve better than .3 precision and recall \n",
    "### using our testing script. \n",
    "\n",
    "##Tuning\n",
    "##Min_Sample_split = 5\n",
    "t0 = time() \n",
    "clf = tree.DecisionTreeClassifier(min_samples_split=5) \n",
    "clf = clf.fit(features_train,labels_train) \n",
    "pred= clf.predict(features_test) \n",
    "accuracy = accuracy_score(labels_test, pred)\n",
    "print 'Decision Tree Tuning 1:'\n",
    "print 'Accuracy:', round(accuracy,4)\n",
    "print 'Decision Tree time:', round((time()-t0), 3), \"s\"\n",
    "test_classifier(clf, my_dataset, features_list)\n",
    "\n",
    "\n",
    "##Min_Sample_split = 10\n",
    "t0 = time() \n",
    "clf = tree.DecisionTreeClassifier(min_samples_split=15) \n",
    "clf = clf.fit(features_train,labels_train) \n",
    "pred= clf.predict(features_test) \n",
    "accuracy = accuracy_score(labels_test, pred)\n",
    "print '\\nDecision Tree Tuning 2:'\n",
    "print 'Accuracy:', round(accuracy,4)\n",
    "print 'Decision Tree time:', round((time()-t0), 3), \"s\"\n",
    "test_classifier(clf, my_dataset, features_list)\n",
    "\n",
    "##Min_Sample_split = 15\n",
    "t0 = time() \n",
    "clf = tree.DecisionTreeClassifier(min_samples_split=30) \n",
    "clf = clf.fit(features_train,labels_train) \n",
    "pred= clf.predict(features_test) \n",
    "accuracy = accuracy_score(labels_test, pred)\n",
    "print '\\nDecision Tree Tuning 1:'\n",
    "print 'Accuracy:', round(accuracy,4)\n",
    "print 'Decision Tree time:', round((time()-t0), 3), \"s\"\n",
    "test_classifier(clf, my_dataset, features_list)\n",
    "\n"
   ]
  },
  {
   "cell_type": "markdown",
   "metadata": {},
   "source": [
    "I tuned the algorithm by adjusting 'min_sample_split' 3 different ways, 5, 15, and 30. Setting min sample split to 30 resulted in the best accuracy. However, min sample split with a value of 10 resulted in the highest precision and recall scores."
   ]
  },
  {
   "cell_type": "markdown",
   "metadata": {},
   "source": [
    "**Final Algorithm**"
   ]
  },
  {
   "cell_type": "markdown",
   "metadata": {},
   "source": [
    "Even with the tuning, Decision Tree's accuracy was still lower than Naive Bayes and so I have chosen Naive Bayes as my final algorithm."
   ]
  },
  {
   "cell_type": "code",
   "execution_count": 343,
   "metadata": {},
   "outputs": [
    {
     "name": "stdout",
     "output_type": "stream",
     "text": [
      "\n",
      "Final Algorithm NB:\n",
      "Naive Bayes accuracy: 0.895833333333\n",
      "time: 0.0 s.\n",
      "Precision :  0.5\n",
      "Recall: 0.6\n"
     ]
    }
   ],
   "source": [
    "##Final Algorithm\n",
    "t0 = time()\n",
    "clf = GaussianNB() \n",
    "clf.fit(features_train, labels_train) \n",
    "pred = clf.predict(features_test) \n",
    "accuracy = accuracy_score(pred,labels_test)\n",
    "\n",
    "print '\\nFinal Algorithm NB:'\n",
    "print 'Naive Bayes accuracy:',accuracy\n",
    "\n",
    "print \"time:\", round((time() - t0),3), \"s.\"\n",
    "\n",
    "\n",
    "##Precision\n",
    "print 'Precision : ', precision_score(labels_test,pred)\n",
    "\n",
    "##Recall\n",
    "print 'Recall:', recall_score(labels_test, pred)"
   ]
  },
  {
   "cell_type": "markdown",
   "metadata": {},
   "source": [
    "Naive Bayes' final accuracy was 89% with a presicion score of 0.5 and recall of score of 0.6."
   ]
  },
  {
   "cell_type": "code",
   "execution_count": 344,
   "metadata": {},
   "outputs": [
    {
     "name": "stdout",
     "output_type": "stream",
     "text": [
      "GaussianNB(priors=None)\n",
      "\tAccuracy: 0.85436\tPrecision: 0.48748\tRecall: 0.37950\tF1: 0.42676\tF2: 0.39709\n",
      "\tTotal predictions: 14000\tTrue positives:  759\tFalse positives:  798\tFalse negatives: 1241\tTrue negatives: 11202\n",
      "\n"
     ]
    }
   ],
   "source": [
    "### Task 6: Dump your classifier, dataset, and features_list so anyone can\n",
    "### check your results. You do not need to change anything below, but make sure\n",
    "### that the version of poi_id.py that you submit can be run on its own and\n",
    "### generates the necessary .pkl files for validating your results.\n",
    "test_classifier(clf, my_dataset, features_list)\n",
    "dump_classifier_and_data(clf, my_dataset, features_list)"
   ]
  },
  {
   "cell_type": "markdown",
   "metadata": {
    "collapsed": true
   },
   "source": [
    "**Conclusion**"
   ]
  },
  {
   "cell_type": "markdown",
   "metadata": {
    "collapsed": true
   },
   "source": [
    "After identifying and removing the outliers I was able to get a better visualization of the data anc chose to create two new features that would help gage a person's interactions with a poi and in turn help identify whether that perosn should be a poi themselves or not. The features the ratio of how many times a person emailed a poi out of the total emails sent and the other created the ratio of how many time a person was emailed by a poi out of the total number of emails recieved. After testing both Naive Bayes and Decision Tree classifiers, I found that Naive Bayes had better accuracy even after tuning the Decision Tree parameters. \n",
    "Using Naive Bayes I was be consistently get a presicion score of around 0.48 and a recall score of 0.38. In this case the accuracy score would not be a good evaluation metric due to the fact that the information is not balanced. Only 12% of the observations were 'poi' and so the best evaluation metrics for this kind of data are precision score and recall score. The precision score(tp/(tp+fp)) indicates how often a poi was correctly classified. It is intuitively the ability of the classifier not to label as positive a sample that is negative. While the recall (tp/(tp+fn)) score is how often the classifier will label any given observation as a poi. In other words, the ability of the classifier to find all the positive samples. \n",
    "I think that this analysis is a good starting point in identifying poi but there is only so much inforamtion you extract by interpreting financial and email information in numerical form. A good next step would be to apply text learning to really dig into the content of those emails. "
   ]
  },
  {
   "cell_type": "markdown",
   "metadata": {
    "collapsed": true
   },
   "source": [
    "**References**\n",
    "\n",
    "http://scikit-learn.org/stable/modules/generated/sklearn.metrics.recall_score.html\n",
    "http://scikit-learn.org/stable/modules/generated/sklearn.metrics.precision_score.html\n",
    "http://scikit-learn.org/stable/modules/cross_validation.html"
   ]
  },
  {
   "cell_type": "code",
   "execution_count": null,
   "metadata": {
    "collapsed": true
   },
   "outputs": [],
   "source": []
  },
  {
   "cell_type": "code",
   "execution_count": null,
   "metadata": {
    "collapsed": true
   },
   "outputs": [],
   "source": []
  }
 ],
 "metadata": {
  "kernelspec": {
   "display_name": "Python 2",
   "language": "python",
   "name": "python2"
  },
  "language_info": {
   "codemirror_mode": {
    "name": "ipython",
    "version": 2
   },
   "file_extension": ".py",
   "mimetype": "text/x-python",
   "name": "python",
   "nbconvert_exporter": "python",
   "pygments_lexer": "ipython2",
   "version": "2.7.13"
  }
 },
 "nbformat": 4,
 "nbformat_minor": 2
}
